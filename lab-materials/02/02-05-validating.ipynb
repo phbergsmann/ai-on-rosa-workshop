{
 "cells": [
  {
   "cell_type": "markdown",
   "metadata": {},
   "source": [
    "# Define functions"
   ]
  },
  {
   "cell_type": "code",
   "execution_count": 1,
   "metadata": {
    "tags": []
   },
   "outputs": [],
   "source": [
    "import socket\n",
    "import os\n",
    "from dotenv import load_dotenv\n",
    "\n",
    "def check_service_connection(host, port, name):\n",
    "    try:\n",
    "        # Create a socket object\n",
    "        s = socket.create_connection((host, port), timeout=5)\n",
    "        s.close()\n",
    "        return True\n",
    "    except socket.timeout:\n",
    "        return False\n",
    "    except ConnectionRefusedError:\n",
    "        return False\n",
    "    except socket.gaierror as e:\n",
    "        return f\"Error: {name} - {e}\"\n",
    "\n",
    "def check_services(services):\n",
    "    for service in services:\n",
    "        host, port, name = service\n",
    "        result = check_service_connection(host, port, name)\n",
    "        if result is True:\n",
    "            print(f\"Success: {name} is reachable on {host}:{port}\")\n",
    "        elif result is False:\n",
    "            print(f\"Failure: {name} is NOT reachable on {host}:{port}\")\n",
    "        else:\n",
    "            print(result)\n"
   ]
  },
  {
   "cell_type": "markdown",
   "metadata": {
    "tags": []
   },
   "source": [
    "# Execute checks"
   ]
  },
  {
   "cell_type": "code",
   "execution_count": null,
   "metadata": {
    "tags": []
   },
   "outputs": [
    {
     "name": "stdout",
     "output_type": "stream",
     "text": [
      "Error: Minio - [Errno 11001] getaddrinfo failed\n",
      "Error: Gitea - [Errno 11001] getaddrinfo failed\n",
      "Error: Postgres Database - [Errno 11001] getaddrinfo failed\n",
      "Error: LLM Service - [Errno 11001] getaddrinfo failed\n",
      "Error: LLM Service-FlanT5 - [Errno 11001] getaddrinfo failed\n",
      "Error: ModelMesh - [Errno 11001] getaddrinfo failed\n",
      "Error: Milvus Vector DB - [Errno 11001] getaddrinfo failed\n"
     ]
    }
   ],
   "source": [
    "\n",
    "# Confirm that services are reachable\n",
    "if __name__ == \"__main__\":\n",
    "    if load_dotenv():\n",
    "        print(\"Found Azure OpenAI Base Endpoint: \" + os.getenv(\"AZURE_OPENAI_ENDPOINT\"))\n",
    "    else:\n",
    "        print(\"No file .env found\")\n",
    "    # List of services to check\n",
    "    services_to_check = [\n",
    "        #(\"minio.ic-shared-minio.svc.cluster.local\", 9000, \"Minio\"),\n",
    "        #(\"gitea.gitea.svc.cluster.local\", 3000, \"Gitea\"),\n",
    "        #(os.getenv(\"AZURE_POSTGRES_HOST\"), 5432, \"Postgres Database\"),\n",
    "        (\"llm-flant5.ic-shared-llm.svc.cluster.local\", 3000, \"LLM Service-FlanT5\"),\n",
    "        #(\"modelmesh-serving.ic-shared-img-det.svc.cluster.local\", 8033, \"ModelMesh\"),\n",
    "        # Add more services as needed\n",
    "    ]\n",
    "\n",
    "    check_services(services_to_check)"
   ]
  }
 ],
 "metadata": {
  "kernelspec": {
   "display_name": "Python 3.11",
   "language": "python",
   "name": "python3"
  },
  "language_info": {
   "codemirror_mode": {
    "name": "ipython",
    "version": 3
   },
   "file_extension": ".py",
   "mimetype": "text/x-python",
   "name": "python",
   "nbconvert_exporter": "python",
   "pygments_lexer": "ipython3",
   "version": "3.12.6"
  }
 },
 "nbformat": 4,
 "nbformat_minor": 4
}
